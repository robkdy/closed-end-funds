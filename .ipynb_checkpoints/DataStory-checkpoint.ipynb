{
 "cells": [
  {
   "cell_type": "markdown",
   "metadata": {},
   "source": [
    "# Data Story for Capstone 1 project"
   ]
  },
  {
   "cell_type": "code",
   "execution_count": 1,
   "metadata": {},
   "outputs": [],
   "source": [
    "import pandas as pd\n",
    "import matplotlib.pyplot as plt\n",
    "import numpy as np\n",
    "import matplotlib as mpl\n",
    "import datetime\n",
    "import seaborn as sns"
   ]
  },
  {
   "cell_type": "code",
   "execution_count": 2,
   "metadata": {},
   "outputs": [
    {
     "data": {
      "text/html": [
       "<div>\n",
       "<style scoped>\n",
       "    .dataframe tbody tr th:only-of-type {\n",
       "        vertical-align: middle;\n",
       "    }\n",
       "\n",
       "    .dataframe tbody tr th {\n",
       "        vertical-align: top;\n",
       "    }\n",
       "\n",
       "    .dataframe thead th {\n",
       "        text-align: right;\n",
       "    }\n",
       "</style>\n",
       "<table border=\"1\" class=\"dataframe\">\n",
       "  <thead>\n",
       "    <tr style=\"text-align: right;\">\n",
       "      <th></th>\n",
       "      <th>ticker</th>\n",
       "      <th>Date</th>\n",
       "      <th>Open</th>\n",
       "      <th>High</th>\n",
       "      <th>Low</th>\n",
       "      <th>Close</th>\n",
       "      <th>Adj_Close</th>\n",
       "      <th>NAV</th>\n",
       "      <th>Adj_NAV</th>\n",
       "      <th>Volume</th>\n",
       "    </tr>\n",
       "  </thead>\n",
       "  <tbody>\n",
       "    <tr>\n",
       "      <th>0</th>\n",
       "      <td>ACP</td>\n",
       "      <td>2011-01-27</td>\n",
       "      <td>20.00</td>\n",
       "      <td>20.05</td>\n",
       "      <td>19.96</td>\n",
       "      <td>20.00</td>\n",
       "      <td>8.93</td>\n",
       "      <td>19.06</td>\n",
       "      <td>9.04</td>\n",
       "      <td>335449</td>\n",
       "    </tr>\n",
       "    <tr>\n",
       "      <th>1</th>\n",
       "      <td>ACP</td>\n",
       "      <td>2011-01-28</td>\n",
       "      <td>20.03</td>\n",
       "      <td>20.19</td>\n",
       "      <td>20.03</td>\n",
       "      <td>20.10</td>\n",
       "      <td>8.98</td>\n",
       "      <td>19.05</td>\n",
       "      <td>9.03</td>\n",
       "      <td>15700</td>\n",
       "    </tr>\n",
       "    <tr>\n",
       "      <th>2</th>\n",
       "      <td>ACP</td>\n",
       "      <td>2011-01-31</td>\n",
       "      <td>20.19</td>\n",
       "      <td>20.33</td>\n",
       "      <td>20.19</td>\n",
       "      <td>20.20</td>\n",
       "      <td>9.02</td>\n",
       "      <td>18.99</td>\n",
       "      <td>9.01</td>\n",
       "      <td>7400</td>\n",
       "    </tr>\n",
       "    <tr>\n",
       "      <th>3</th>\n",
       "      <td>ACP</td>\n",
       "      <td>2011-02-01</td>\n",
       "      <td>20.20</td>\n",
       "      <td>20.20</td>\n",
       "      <td>20.01</td>\n",
       "      <td>20.10</td>\n",
       "      <td>8.98</td>\n",
       "      <td>19.00</td>\n",
       "      <td>9.01</td>\n",
       "      <td>10150</td>\n",
       "    </tr>\n",
       "    <tr>\n",
       "      <th>4</th>\n",
       "      <td>ACP</td>\n",
       "      <td>2011-02-02</td>\n",
       "      <td>20.05</td>\n",
       "      <td>20.07</td>\n",
       "      <td>20.00</td>\n",
       "      <td>20.05</td>\n",
       "      <td>8.95</td>\n",
       "      <td>19.02</td>\n",
       "      <td>9.02</td>\n",
       "      <td>12050</td>\n",
       "    </tr>\n",
       "  </tbody>\n",
       "</table>\n",
       "</div>"
      ],
      "text/plain": [
       "  ticker        Date   Open   High    Low  Close  Adj_Close    NAV  Adj_NAV  \\\n",
       "0    ACP  2011-01-27  20.00  20.05  19.96  20.00       8.93  19.06     9.04   \n",
       "1    ACP  2011-01-28  20.03  20.19  20.03  20.10       8.98  19.05     9.03   \n",
       "2    ACP  2011-01-31  20.19  20.33  20.19  20.20       9.02  18.99     9.01   \n",
       "3    ACP  2011-02-01  20.20  20.20  20.01  20.10       8.98  19.00     9.01   \n",
       "4    ACP  2011-02-02  20.05  20.07  20.00  20.05       8.95  19.02     9.02   \n",
       "\n",
       "   Volume  \n",
       "0  335449  \n",
       "1   15700  \n",
       "2    7400  \n",
       "3   10150  \n",
       "4   12050  "
      ]
     },
     "execution_count": 2,
     "metadata": {},
     "output_type": "execute_result"
    }
   ],
   "source": [
    "# read in the data set, extract all the ticker symbols into a list\n",
    "df = pd.read_csv('./data/all_cefs_clean.csv')\n",
    "tickers = sorted(list(set(df.ticker)))\n",
    "df.head()"
   ]
  },
  {
   "cell_type": "code",
   "execution_count": 3,
   "metadata": {},
   "outputs": [
    {
     "data": {
      "text/plain": [
       "Date         datetime64[ns]\n",
       "Open                float64\n",
       "High                float64\n",
       "Low                 float64\n",
       "Close               float64\n",
       "Adj_Close           float64\n",
       "NAV                 float64\n",
       "Adj_NAV             float64\n",
       "Volume                int64\n",
       "dtype: object"
      ]
     },
     "execution_count": 3,
     "metadata": {},
     "output_type": "execute_result"
    }
   ],
   "source": [
    "# set index to ticker and set date column to type datetime. check types\n",
    "df1 = df.set_index(['ticker'])\n",
    "df1.Date = pd.to_datetime(df1.Date)\n",
    "df1.dtypes"
   ]
  },
  {
   "cell_type": "code",
   "execution_count": 4,
   "metadata": {},
   "outputs": [
    {
     "data": {
      "text/html": [
       "<div>\n",
       "<style scoped>\n",
       "    .dataframe tbody tr th:only-of-type {\n",
       "        vertical-align: middle;\n",
       "    }\n",
       "\n",
       "    .dataframe tbody tr th {\n",
       "        vertical-align: top;\n",
       "    }\n",
       "\n",
       "    .dataframe thead th {\n",
       "        text-align: right;\n",
       "    }\n",
       "</style>\n",
       "<table border=\"1\" class=\"dataframe\">\n",
       "  <thead>\n",
       "    <tr style=\"text-align: right;\">\n",
       "      <th></th>\n",
       "      <th>Date</th>\n",
       "      <th>Open</th>\n",
       "      <th>High</th>\n",
       "      <th>Low</th>\n",
       "      <th>Close</th>\n",
       "      <th>Adj_Close</th>\n",
       "      <th>NAV</th>\n",
       "      <th>Adj_NAV</th>\n",
       "      <th>Volume</th>\n",
       "    </tr>\n",
       "    <tr>\n",
       "      <th>ticker</th>\n",
       "      <th></th>\n",
       "      <th></th>\n",
       "      <th></th>\n",
       "      <th></th>\n",
       "      <th></th>\n",
       "      <th></th>\n",
       "      <th></th>\n",
       "      <th></th>\n",
       "      <th></th>\n",
       "    </tr>\n",
       "  </thead>\n",
       "  <tbody>\n",
       "    <tr>\n",
       "      <th>ACP</th>\n",
       "      <td>2011-01-27</td>\n",
       "      <td>20.00</td>\n",
       "      <td>20.05</td>\n",
       "      <td>19.96</td>\n",
       "      <td>20.00</td>\n",
       "      <td>8.93</td>\n",
       "      <td>19.06</td>\n",
       "      <td>9.04</td>\n",
       "      <td>335449</td>\n",
       "    </tr>\n",
       "    <tr>\n",
       "      <th>ACP</th>\n",
       "      <td>2011-01-28</td>\n",
       "      <td>20.03</td>\n",
       "      <td>20.19</td>\n",
       "      <td>20.03</td>\n",
       "      <td>20.10</td>\n",
       "      <td>8.98</td>\n",
       "      <td>19.05</td>\n",
       "      <td>9.03</td>\n",
       "      <td>15700</td>\n",
       "    </tr>\n",
       "    <tr>\n",
       "      <th>ACP</th>\n",
       "      <td>2011-01-31</td>\n",
       "      <td>20.19</td>\n",
       "      <td>20.33</td>\n",
       "      <td>20.19</td>\n",
       "      <td>20.20</td>\n",
       "      <td>9.02</td>\n",
       "      <td>18.99</td>\n",
       "      <td>9.01</td>\n",
       "      <td>7400</td>\n",
       "    </tr>\n",
       "    <tr>\n",
       "      <th>ACP</th>\n",
       "      <td>2011-02-01</td>\n",
       "      <td>20.20</td>\n",
       "      <td>20.20</td>\n",
       "      <td>20.01</td>\n",
       "      <td>20.10</td>\n",
       "      <td>8.98</td>\n",
       "      <td>19.00</td>\n",
       "      <td>9.01</td>\n",
       "      <td>10150</td>\n",
       "    </tr>\n",
       "    <tr>\n",
       "      <th>ACP</th>\n",
       "      <td>2011-02-02</td>\n",
       "      <td>20.05</td>\n",
       "      <td>20.07</td>\n",
       "      <td>20.00</td>\n",
       "      <td>20.05</td>\n",
       "      <td>8.95</td>\n",
       "      <td>19.02</td>\n",
       "      <td>9.02</td>\n",
       "      <td>12050</td>\n",
       "    </tr>\n",
       "  </tbody>\n",
       "</table>\n",
       "</div>"
      ],
      "text/plain": [
       "             Date   Open   High    Low  Close  Adj_Close    NAV  Adj_NAV  \\\n",
       "ticker                                                                     \n",
       "ACP    2011-01-27  20.00  20.05  19.96  20.00       8.93  19.06     9.04   \n",
       "ACP    2011-01-28  20.03  20.19  20.03  20.10       8.98  19.05     9.03   \n",
       "ACP    2011-01-31  20.19  20.33  20.19  20.20       9.02  18.99     9.01   \n",
       "ACP    2011-02-01  20.20  20.20  20.01  20.10       8.98  19.00     9.01   \n",
       "ACP    2011-02-02  20.05  20.07  20.00  20.05       8.95  19.02     9.02   \n",
       "\n",
       "        Volume  \n",
       "ticker          \n",
       "ACP     335449  \n",
       "ACP      15700  \n",
       "ACP       7400  \n",
       "ACP      10150  \n",
       "ACP      12050  "
      ]
     },
     "execution_count": 4,
     "metadata": {},
     "output_type": "execute_result"
    }
   ],
   "source": [
    "df1.head()"
   ]
  },
  {
   "cell_type": "code",
   "execution_count": 5,
   "metadata": {},
   "outputs": [
    {
     "data": {
      "text/html": [
       "<div>\n",
       "<style scoped>\n",
       "    .dataframe tbody tr th:only-of-type {\n",
       "        vertical-align: middle;\n",
       "    }\n",
       "\n",
       "    .dataframe tbody tr th {\n",
       "        vertical-align: top;\n",
       "    }\n",
       "\n",
       "    .dataframe thead th {\n",
       "        text-align: right;\n",
       "    }\n",
       "</style>\n",
       "<table border=\"1\" class=\"dataframe\">\n",
       "  <thead>\n",
       "    <tr style=\"text-align: right;\">\n",
       "      <th></th>\n",
       "      <th>Ticker</th>\n",
       "      <th>Category</th>\n",
       "      <th>Mkt_Cap</th>\n",
       "      <th>Act_Exp</th>\n",
       "      <th>Net_Exp</th>\n",
       "      <th>Dist_Freq</th>\n",
       "    </tr>\n",
       "  </thead>\n",
       "  <tbody>\n",
       "    <tr>\n",
       "      <th>0</th>\n",
       "      <td>ACP</td>\n",
       "      <td>Fixed Income</td>\n",
       "      <td>1.527958e+05</td>\n",
       "      <td>0.016755</td>\n",
       "      <td>0.023619</td>\n",
       "      <td>12.0</td>\n",
       "    </tr>\n",
       "    <tr>\n",
       "      <th>1</th>\n",
       "      <td>ACV</td>\n",
       "      <td>Equity US</td>\n",
       "      <td>2.230959e+05</td>\n",
       "      <td>0.010566</td>\n",
       "      <td>0.022416</td>\n",
       "      <td>12.0</td>\n",
       "    </tr>\n",
       "    <tr>\n",
       "      <th>2</th>\n",
       "      <td>ADX</td>\n",
       "      <td>Equity US</td>\n",
       "      <td>1.430408e+06</td>\n",
       "      <td>0.005337</td>\n",
       "      <td>0.005337</td>\n",
       "      <td>4.0</td>\n",
       "    </tr>\n",
       "    <tr>\n",
       "      <th>3</th>\n",
       "      <td>AEF</td>\n",
       "      <td>Equity Foreign</td>\n",
       "      <td>6.719044e+04</td>\n",
       "      <td>0.018305</td>\n",
       "      <td>0.020418</td>\n",
       "      <td>2.0</td>\n",
       "    </tr>\n",
       "    <tr>\n",
       "      <th>4</th>\n",
       "      <td>AFB</td>\n",
       "      <td>Municipal Bonds</td>\n",
       "      <td>3.695975e+05</td>\n",
       "      <td>0.006044</td>\n",
       "      <td>0.010214</td>\n",
       "      <td>12.0</td>\n",
       "    </tr>\n",
       "  </tbody>\n",
       "</table>\n",
       "</div>"
      ],
      "text/plain": [
       "  Ticker         Category       Mkt_Cap   Act_Exp   Net_Exp  Dist_Freq\n",
       "0    ACP     Fixed Income  1.527958e+05  0.016755  0.023619       12.0\n",
       "1    ACV        Equity US  2.230959e+05  0.010566  0.022416       12.0\n",
       "2    ADX        Equity US  1.430408e+06  0.005337  0.005337        4.0\n",
       "3    AEF   Equity Foreign  6.719044e+04  0.018305  0.020418        2.0\n",
       "4    AFB  Municipal Bonds  3.695975e+05  0.006044  0.010214       12.0"
      ]
     },
     "execution_count": 5,
     "metadata": {},
     "output_type": "execute_result"
    }
   ],
   "source": [
    "# read in other fundamental fund data\n",
    "fdf = pd.read_csv('./data/cef_fundem_clean.csv')\n",
    "fdf.head()"
   ]
  },
  {
   "cell_type": "code",
   "execution_count": 6,
   "metadata": {},
   "outputs": [],
   "source": [
    "fdf1 = fdf.set_index('Ticker')"
   ]
  },
  {
   "cell_type": "code",
   "execution_count": 7,
   "metadata": {},
   "outputs": [
    {
     "name": "stdout",
     "output_type": "stream",
     "text": [
      "Total number of funds:                      496\n",
      "Total market cap of all funds: $215,456,271,965\n",
      "Mean market cap:               $    434,387,645\n",
      "Median market cap:             $    260,859,095\n",
      "Mean net expense ratio:                 0.01453\n",
      "Median net expense ratio:               0.01389\n"
     ]
    }
   ],
   "source": [
    "# Some interesting stats\n",
    "mcsum = fdf1['Mkt_Cap'].sum()\n",
    "print(f'Total number of funds:         {len(fdf1):16}')\n",
    "print(f'Total market cap of all funds: ${fdf1.Mkt_Cap.sum()*1000:15,.0f}')\n",
    "print(f'Mean market cap:               ${fdf1.Mkt_Cap.mean()*1000:15,.0f}')\n",
    "print(f'Median market cap:             ${fdf1.Mkt_Cap.median()*1000:15,.0f}')\n",
    "print(f'Mean net expense ratio:        {fdf1.Net_Exp.mean():16.4}')\n",
    "print(f'Median net expense ratio:      {fdf1.Net_Exp.median():16.4}')"
   ]
  },
  {
   "cell_type": "code",
   "execution_count": 8,
   "metadata": {},
   "outputs": [
    {
     "data": {
      "text/html": [
       "<div>\n",
       "<style scoped>\n",
       "    .dataframe tbody tr th:only-of-type {\n",
       "        vertical-align: middle;\n",
       "    }\n",
       "\n",
       "    .dataframe tbody tr th {\n",
       "        vertical-align: top;\n",
       "    }\n",
       "\n",
       "    .dataframe thead th {\n",
       "        text-align: right;\n",
       "    }\n",
       "</style>\n",
       "<table border=\"1\" class=\"dataframe\">\n",
       "  <thead>\n",
       "    <tr style=\"text-align: right;\">\n",
       "      <th></th>\n",
       "      <th>Mkt_Cap</th>\n",
       "      <th>Net_Exp</th>\n",
       "    </tr>\n",
       "    <tr>\n",
       "      <th>Category</th>\n",
       "      <th></th>\n",
       "      <th></th>\n",
       "    </tr>\n",
       "  </thead>\n",
       "  <tbody>\n",
       "    <tr>\n",
       "      <th>Equity Foreign</th>\n",
       "      <td>2.434558e+05</td>\n",
       "      <td>0.014672</td>\n",
       "    </tr>\n",
       "    <tr>\n",
       "      <th>Equity US</th>\n",
       "      <td>5.143330e+05</td>\n",
       "      <td>0.016565</td>\n",
       "    </tr>\n",
       "    <tr>\n",
       "      <th>Fixed Income</th>\n",
       "      <td>4.392116e+05</td>\n",
       "      <td>0.014841</td>\n",
       "    </tr>\n",
       "    <tr>\n",
       "      <th>Municipal Bonds</th>\n",
       "      <td>3.735391e+05</td>\n",
       "      <td>0.012398</td>\n",
       "    </tr>\n",
       "    <tr>\n",
       "      <th>Precious Metals</th>\n",
       "      <td>1.432886e+06</td>\n",
       "      <td>0.005725</td>\n",
       "    </tr>\n",
       "  </tbody>\n",
       "</table>\n",
       "</div>"
      ],
      "text/plain": [
       "                      Mkt_Cap   Net_Exp\n",
       "Category                               \n",
       "Equity Foreign   2.434558e+05  0.014672\n",
       "Equity US        5.143330e+05  0.016565\n",
       "Fixed Income     4.392116e+05  0.014841\n",
       "Municipal Bonds  3.735391e+05  0.012398\n",
       "Precious Metals  1.432886e+06  0.005725"
      ]
     },
     "execution_count": 8,
     "metadata": {},
     "output_type": "execute_result"
    }
   ],
   "source": [
    "# mean market cap and net expense ratio by category\n",
    "fdf1.groupby('Category').mean()[['Mkt_Cap', 'Net_Exp']]"
   ]
  },
  {
   "cell_type": "code",
   "execution_count": 9,
   "metadata": {},
   "outputs": [],
   "source": [
    "# function to compute compound annual growth rate\n",
    "def CAGR(first, last, periods):\n",
    "    return (last/first)**(1/periods)-1\n"
   ]
  },
  {
   "cell_type": "code",
   "execution_count": 10,
   "metadata": {},
   "outputs": [],
   "source": [
    "# compute total return for each fund\n",
    "tot_ret = []\n",
    "for t in tickers:\n",
    "    tot_ret.append((df1.loc[t].iloc[-1].Adj_Close / df1.loc[t].iloc[0].Adj_Close - 1) * 100)\n"
   ]
  },
  {
   "cell_type": "code",
   "execution_count": 11,
   "metadata": {
    "scrolled": true
   },
   "outputs": [],
   "source": [
    "# compute annualized return\n",
    "ann_ret = []\n",
    "for t in tickers:\n",
    "    diff = df1.loc[t].iloc[-1].Date - df1.loc[t].iloc[0].Date\n",
    "    ann_ret.append(CAGR(df1.loc[t].iloc[0].Adj_Close, df1.loc[t].iloc[-1].Adj_Close, diff.days/365.25) * 100)"
   ]
  },
  {
   "cell_type": "markdown",
   "metadata": {},
   "source": [
    "Histogram of annualized return of all the funds."
   ]
  },
  {
   "cell_type": "code",
   "execution_count": 12,
   "metadata": {},
   "outputs": [
    {
     "data": {
      "image/png": "[encoded data removed]",
      "text/plain": [
       "<Figure size 1008x360 with 1 Axes>"
      ]
     },
     "metadata": {
      "needs_background": "light"
     },
     "output_type": "display_data"
    }
   ],
   "source": [
    "mpl.style.use('bmh')\n",
    "fig, ax = plt.subplots(figsize=(14,5))\n",
    "ax.hist(ann_ret, bins=50)\n",
    "ax.axvline(np.mean(ann_ret), color='r')\n",
    "ax.annotate('mean', xy=(np.mean(ann_ret), 75), xytext=(0, 70), arrowprops=dict(arrowstyle='simple'))\n",
    "ax.set_xlabel('Annual percent return')\n",
    "ax.set_ylabel('Number of funds')\n",
    "ax.set_title('Histogram of returns by number of funds')\n",
    "ax.axis(option='tight')\n",
    "start, end = ax.get_xlim()\n",
    "_ = ax.set_xticks(np.arange(round(start,1), round(end,1), 2))\n",
    "# ax.set_xticklabels(list(np.arange(round(start,1), round(end,1), 3)), rotation=60)\n"
   ]
  },
  {
   "cell_type": "code",
   "execution_count": null,
   "metadata": {},
   "outputs": [],
   "source": []
  },
  {
   "cell_type": "code",
   "execution_count": 13,
   "metadata": {},
   "outputs": [],
   "source": [
    "# combine fundamental dataframe with prices"
   ]
  },
  {
   "cell_type": "code",
   "execution_count": 13,
   "metadata": {},
   "outputs": [],
   "source": [
    "df2 = df1.merge(fdf1, how='left', left_index=True, right_index=True)\n",
    "df2.rename_axis('ticker', inplace=True)"
   ]
  },
  {
   "cell_type": "code",
   "execution_count": 17,
   "metadata": {},
   "outputs": [
    {
     "data": {
      "text/plain": [
       "Index(['ACP', 'ADX', 'AEF', 'AFB', 'AFT', 'AGD', 'AIF', 'AKP', 'AOD', 'APF',\n",
       "       ...\n",
       "       'VMO', 'VPV', 'VTA', 'VTN', 'VVR', 'WEA', 'WIA', 'WIW', 'ZF', 'ZTR'],\n",
       "      dtype='object', name='ticker', length=449)"
      ]
     },
     "execution_count": 17,
     "metadata": {},
     "output_type": "execute_result"
    }
   ],
   "source": [
    "# make sure data is sorted correctly\n",
    "# df3 = df2.sort_values(by=['ticker', 'Date'], ascending=[True, False])\n",
    "df2.index.unique()"
   ]
  },
  {
   "cell_type": "code",
   "execution_count": 16,
   "metadata": {},
   "outputs": [
    {
     "data": {
      "text/plain": [
       "array(['Fixed Income', 'Equity US', 'Equity Foreign', 'Municipal Bonds',\n",
       "       'Precious Metals'], dtype=object)"
      ]
     },
     "execution_count": 16,
     "metadata": {},
     "output_type": "execute_result"
    }
   ],
   "source": [
    "cats = np.array(df2.Category.unique())\n",
    "cats"
   ]
  },
  {
   "cell_type": "code",
   "execution_count": 18,
   "metadata": {},
   "outputs": [],
   "source": [
    "cat_ret = []\n",
    "for cat in cats:\n",
    "    df4 = df2[df2.Category == cat]\n",
    "    ann_ret = []\n",
    "    for t in df4.index.unique():\n",
    "        diff = df4.loc[t].iloc[-1].Date - df4.loc[t].iloc[0].Date\n",
    "        ann_ret.append(CAGR(df4.loc[t].iloc[0].Adj_Close, df4.loc[t].iloc[-1].Adj_Close, diff.days/365.25) * 100)\n",
    "    cat_ret.append((np.mean(ann_ret)))\n",
    "        "
   ]
  },
  {
   "cell_type": "code",
   "execution_count": 19,
   "metadata": {},
   "outputs": [
    {
     "data": {
      "text/plain": [
       "Text(0.5, 1.0, 'Return by Category')"
      ]
     },
     "execution_count": 19,
     "metadata": {},
     "output_type": "execute_result"
    },
    {
     "data": {
      "image/png": "[encoded data removed]",
      "text/plain": [
       "<Figure size 432x288 with 1 Axes>"
      ]
     },
     "metadata": {
      "needs_background": "light"
     },
     "output_type": "display_data"
    }
   ],
   "source": [
    "plt.bar(cats, cat_ret)\n",
    "plt.xticks(rotation=60)\n",
    "plt.xlabel('Fund Category')\n",
    "plt.ylabel('Mean Annualized Return (%)')\n",
    "plt.title('Return by Category')"
   ]
  },
  {
   "cell_type": "code",
   "execution_count": 20,
   "metadata": {},
   "outputs": [],
   "source": [
    "# calculate discount to net asset value\n",
    "# a negative number indicates a discount\n",
    "# a positive number indicates a premium\n",
    "df2['Discount'] = (df2.Close - df2.NAV) / df2.NAV"
   ]
  },
  {
   "cell_type": "code",
   "execution_count": 21,
   "metadata": {},
   "outputs": [],
   "source": [
    "df2.sort_values(by=['ticker', 'Date'], inplace=True)\n",
    "df2.set_index(['Date'], append=True, inplace=True)"
   ]
  },
  {
   "cell_type": "code",
   "execution_count": 22,
   "metadata": {
    "scrolled": true
   },
   "outputs": [
    {
     "data": {
      "text/html": [
       "<div>\n",
       "<style scoped>\n",
       "    .dataframe tbody tr th:only-of-type {\n",
       "        vertical-align: middle;\n",
       "    }\n",
       "\n",
       "    .dataframe tbody tr th {\n",
       "        vertical-align: top;\n",
       "    }\n",
       "\n",
       "    .dataframe thead th {\n",
       "        text-align: right;\n",
       "    }\n",
       "</style>\n",
       "<table border=\"1\" class=\"dataframe\">\n",
       "  <thead>\n",
       "    <tr style=\"text-align: right;\">\n",
       "      <th></th>\n",
       "      <th></th>\n",
       "      <th>Open</th>\n",
       "      <th>High</th>\n",
       "      <th>Low</th>\n",
       "      <th>Close</th>\n",
       "      <th>Adj_Close</th>\n",
       "      <th>NAV</th>\n",
       "      <th>Adj_NAV</th>\n",
       "      <th>Volume</th>\n",
       "      <th>Category</th>\n",
       "      <th>Mkt_Cap</th>\n",
       "      <th>Act_Exp</th>\n",
       "      <th>Net_Exp</th>\n",
       "      <th>Dist_Freq</th>\n",
       "      <th>Discount</th>\n",
       "      <th>ret_1</th>\n",
       "      <th>ret_3</th>\n",
       "      <th>ret_5</th>\n",
       "      <th>ret_10</th>\n",
       "    </tr>\n",
       "    <tr>\n",
       "      <th>ticker</th>\n",
       "      <th>Date</th>\n",
       "      <th></th>\n",
       "      <th></th>\n",
       "      <th></th>\n",
       "      <th></th>\n",
       "      <th></th>\n",
       "      <th></th>\n",
       "      <th></th>\n",
       "      <th></th>\n",
       "      <th></th>\n",
       "      <th></th>\n",
       "      <th></th>\n",
       "      <th></th>\n",
       "      <th></th>\n",
       "      <th></th>\n",
       "      <th></th>\n",
       "      <th></th>\n",
       "      <th></th>\n",
       "      <th></th>\n",
       "    </tr>\n",
       "  </thead>\n",
       "  <tbody>\n",
       "    <tr>\n",
       "      <th rowspan=\"5\" valign=\"top\">ACP</th>\n",
       "      <th>2011-01-27</th>\n",
       "      <td>20.00</td>\n",
       "      <td>20.05</td>\n",
       "      <td>19.96</td>\n",
       "      <td>20.00</td>\n",
       "      <td>8.93</td>\n",
       "      <td>19.06</td>\n",
       "      <td>9.04</td>\n",
       "      <td>335449</td>\n",
       "      <td>Fixed Income</td>\n",
       "      <td>152795.838</td>\n",
       "      <td>0.016755</td>\n",
       "      <td>0.023619</td>\n",
       "      <td>12.0</td>\n",
       "      <td>0.049318</td>\n",
       "      <td>-0.067189</td>\n",
       "      <td>0.120941</td>\n",
       "      <td>-0.183651</td>\n",
       "      <td>NaN</td>\n",
       "    </tr>\n",
       "    <tr>\n",
       "      <th>2011-01-28</th>\n",
       "      <td>20.03</td>\n",
       "      <td>20.19</td>\n",
       "      <td>20.03</td>\n",
       "      <td>20.10</td>\n",
       "      <td>8.98</td>\n",
       "      <td>19.05</td>\n",
       "      <td>9.03</td>\n",
       "      <td>15700</td>\n",
       "      <td>Fixed Income</td>\n",
       "      <td>152795.838</td>\n",
       "      <td>0.016755</td>\n",
       "      <td>0.023619</td>\n",
       "      <td>12.0</td>\n",
       "      <td>0.055118</td>\n",
       "      <td>-0.060134</td>\n",
       "      <td>0.100223</td>\n",
       "      <td>-0.178174</td>\n",
       "      <td>NaN</td>\n",
       "    </tr>\n",
       "    <tr>\n",
       "      <th>2011-01-31</th>\n",
       "      <td>20.19</td>\n",
       "      <td>20.33</td>\n",
       "      <td>20.19</td>\n",
       "      <td>20.20</td>\n",
       "      <td>9.02</td>\n",
       "      <td>18.99</td>\n",
       "      <td>9.01</td>\n",
       "      <td>7400</td>\n",
       "      <td>Fixed Income</td>\n",
       "      <td>152795.838</td>\n",
       "      <td>0.016755</td>\n",
       "      <td>0.023619</td>\n",
       "      <td>12.0</td>\n",
       "      <td>0.063718</td>\n",
       "      <td>-0.048780</td>\n",
       "      <td>0.099778</td>\n",
       "      <td>-0.185144</td>\n",
       "      <td>NaN</td>\n",
       "    </tr>\n",
       "    <tr>\n",
       "      <th>2011-02-01</th>\n",
       "      <td>20.20</td>\n",
       "      <td>20.20</td>\n",
       "      <td>20.01</td>\n",
       "      <td>20.10</td>\n",
       "      <td>8.98</td>\n",
       "      <td>19.00</td>\n",
       "      <td>9.01</td>\n",
       "      <td>10150</td>\n",
       "      <td>Fixed Income</td>\n",
       "      <td>152795.838</td>\n",
       "      <td>0.016755</td>\n",
       "      <td>0.023619</td>\n",
       "      <td>12.0</td>\n",
       "      <td>0.057895</td>\n",
       "      <td>-0.041203</td>\n",
       "      <td>0.097996</td>\n",
       "      <td>-0.190423</td>\n",
       "      <td>NaN</td>\n",
       "    </tr>\n",
       "    <tr>\n",
       "      <th>2011-02-02</th>\n",
       "      <td>20.05</td>\n",
       "      <td>20.07</td>\n",
       "      <td>20.00</td>\n",
       "      <td>20.05</td>\n",
       "      <td>8.95</td>\n",
       "      <td>19.02</td>\n",
       "      <td>9.02</td>\n",
       "      <td>12050</td>\n",
       "      <td>Fixed Income</td>\n",
       "      <td>152795.838</td>\n",
       "      <td>0.016755</td>\n",
       "      <td>0.023619</td>\n",
       "      <td>12.0</td>\n",
       "      <td>0.054154</td>\n",
       "      <td>-0.046927</td>\n",
       "      <td>0.110615</td>\n",
       "      <td>-0.185475</td>\n",
       "      <td>NaN</td>\n",
       "    </tr>\n",
       "  </tbody>\n",
       "</table>\n",
       "</div>"
      ],
      "text/plain": [
       "                    Open   High    Low  Close  Adj_Close    NAV  Adj_NAV  \\\n",
       "ticker Date                                                                \n",
       "ACP    2011-01-27  20.00  20.05  19.96  20.00       8.93  19.06     9.04   \n",
       "       2011-01-28  20.03  20.19  20.03  20.10       8.98  19.05     9.03   \n",
       "       2011-01-31  20.19  20.33  20.19  20.20       9.02  18.99     9.01   \n",
       "       2011-02-01  20.20  20.20  20.01  20.10       8.98  19.00     9.01   \n",
       "       2011-02-02  20.05  20.07  20.00  20.05       8.95  19.02     9.02   \n",
       "\n",
       "                   Volume      Category     Mkt_Cap   Act_Exp   Net_Exp  \\\n",
       "ticker Date                                                               \n",
       "ACP    2011-01-27  335449  Fixed Income  152795.838  0.016755  0.023619   \n",
       "       2011-01-28   15700  Fixed Income  152795.838  0.016755  0.023619   \n",
       "       2011-01-31    7400  Fixed Income  152795.838  0.016755  0.023619   \n",
       "       2011-02-01   10150  Fixed Income  152795.838  0.016755  0.023619   \n",
       "       2011-02-02   12050  Fixed Income  152795.838  0.016755  0.023619   \n",
       "\n",
       "                   Dist_Freq  Discount     ret_1     ret_3     ret_5  ret_10  \n",
       "ticker Date                                                                   \n",
       "ACP    2011-01-27       12.0  0.049318 -0.067189  0.120941 -0.183651     NaN  \n",
       "       2011-01-28       12.0  0.055118 -0.060134  0.100223 -0.178174     NaN  \n",
       "       2011-01-31       12.0  0.063718 -0.048780  0.099778 -0.185144     NaN  \n",
       "       2011-02-01       12.0  0.057895 -0.041203  0.097996 -0.190423     NaN  \n",
       "       2011-02-02       12.0  0.054154 -0.046927  0.110615 -0.185475     NaN  "
      ]
     },
     "execution_count": 22,
     "metadata": {},
     "output_type": "execute_result"
    }
   ],
   "source": [
    "# calculate 1, 3 , 5, and 10 year rolling returns\n",
    "# shift the data back so that the returns are going forward\n",
    "ret_1 = []\n",
    "ret_3 = []\n",
    "ret_5 = []\n",
    "ret_10 = []\n",
    "for t in tickers:\n",
    "    ret_1.extend(df2.loc[t].Adj_Close.pct_change(252).shift(-252))\n",
    "    ret_3.extend(df2.loc[t].Adj_Close.pct_change(252*3).shift(-252*3))\n",
    "    ret_5.extend(df2.loc[t].Adj_Close.pct_change(252*5).shift(-252*5))\n",
    "    ret_10.extend(df2.loc[t].Adj_Close.pct_change(252*10).shift(-252*10))\n",
    "df2['ret_1'] = ret_1\n",
    "df2['ret_3'] = ret_3\n",
    "df2['ret_5'] = ret_5\n",
    "df2['ret_10'] = ret_10\n",
    "df2.head()"
   ]
  },
  {
   "cell_type": "markdown",
   "metadata": {},
   "source": [
    "Let's see how discount relates forward returns. Below are scatter plots of the discount versus the 1,3,5, and 10 year returns ending in March of 2019, along with the correlation coefficients for the last period and all periods."
   ]
  },
  {
   "cell_type": "code",
   "execution_count": 81,
   "metadata": {},
   "outputs": [
    {
     "data": {
      "image/png": "[encoded data removed]",
      "text/plain": [
       "<Figure size 1008x720 with 4 Axes>"
      ]
     },
     "metadata": {
      "needs_background": "light"
     },
     "output_type": "display_data"
    }
   ],
   "source": [
    "f, axes = plt.subplots(2,2, figsize=[14,10])\n",
    "sns.regplot(x='ret_1', y='Discount', data=df2.loc[(slice(None), '2018-03-01'),], ax=axes[0,0])\n",
    "sns.regplot(x='ret_3', y='Discount', data=df2.loc[(slice(None), '2016-03-01'),], ax=axes[0,1])\n",
    "sns.regplot(x='ret_5', y='Discount', data=df2.loc[(slice(None), '2014-02-28'),], ax=axes[1,0])\n",
    "sns.regplot(x='ret_10', y='Discount', data=df2.loc[(slice(None), '2009-02-27'),], ax=axes[1,1])\n",
    "plt.show()"
   ]
  },
  {
   "cell_type": "code",
   "execution_count": 82,
   "metadata": {},
   "outputs": [],
   "source": [
    "cc1yr = df2.loc[(slice(None), '2018-03-01'),][['ret_1', 'Discount']].corr().loc['ret_1', 'Discount']\n",
    "cc1yr_all = df2[['ret_1', 'Discount']].corr().loc['ret_1', 'Discount']\n",
    "cc3yr = df2.loc[(slice(None), '2016-03-01'),][['ret_3', 'Discount']].corr().loc['ret_3', 'Discount']\n",
    "cc3yr_all = df2[['ret_3', 'Discount']].corr().loc['ret_3', 'Discount']\n",
    "cc5yr = df2.loc[(slice(None), '2014-02-28'),][['ret_5', 'Discount']].corr().loc['ret_5', 'Discount']\n",
    "cc5yr_all = df2[['ret_5', 'Discount']].corr().loc['ret_5', 'Discount']\n",
    "cc10yr = df2.loc[(slice(None), '2009-02-27'),][['ret_10', 'Discount']].corr().loc['ret_10', 'Discount']\n",
    "cc10yr_all = df2[['ret_10', 'Discount']].corr().loc['ret_10', 'Discount']"
   ]
  },
  {
   "cell_type": "code",
   "execution_count": 85,
   "metadata": {},
   "outputs": [
    {
     "name": "stdout",
     "output_type": "stream",
     "text": [
      "Pearson Correlation Coefficient for Discounts versus Returns\n",
      "1 year return for the latest period:   0.07343735113742943\n",
      "1 year return for all periods:        -0.18918149648722143\n",
      "3 year return for the latest period:  -0.40388747184922424\n",
      "3 year return for all periods:        -0.2402691330135022\n",
      "5 year return for the latest period:  -0.09937868697498481\n",
      "5 year return for all periods:        -0.2962788682414315\n",
      "10 year return for the latest period: -0.19149925999291662\n",
      "10 year return for all periods:       -0.3171508873314888\n"
     ]
    }
   ],
   "source": [
    "print('Pearson Correlation Coefficient for Discounts versus Returns')\n",
    "print('1 year return for the latest period:  ', cc1yr)\n",
    "print('1 year return for all periods:       ', cc1yr_all)\n",
    "print('3 year return for the latest period: ', cc3yr)\n",
    "print('3 year return for all periods:       ', cc3yr_all)\n",
    "print('5 year return for the latest period: ', cc5yr)\n",
    "print('5 year return for all periods:       ', cc5yr_all)\n",
    "print('10 year return for the latest period:', cc10yr)\n",
    "print('10 year return for all periods:      ', cc10yr_all)"
   ]
  },
  {
   "cell_type": "markdown",
   "metadata": {},
   "source": [
    "This initial data exploration gives insights into what we can try to answer. It appears the discount rate is indeed negatively correlated with future returns, though not strongly. Can we make predictions using the discount rate? What about the net expense ratio? We also see that returns vary by category too, can we use that? Also, the above correlations were for all funds. From an individual fund basis, I think the corellation will be much stronger. We can explore that too. "
   ]
  },
  {
   "cell_type": "code",
   "execution_count": null,
   "metadata": {},
   "outputs": [],
   "source": []
  },
  {
   "cell_type": "code",
   "execution_count": null,
   "metadata": {},
   "outputs": [],
   "source": []
  },
  {
   "cell_type": "code",
   "execution_count": null,
   "metadata": {},
   "outputs": [],
   "source": []
  }
 ],
 "metadata": {
  "kernelspec": {
   "display_name": "Python 3",
   "language": "python",
   "name": "python3"
  },
  "language_info": {
   "codemirror_mode": {
    "name": "ipython",
    "version": 3
   },
   "file_extension": ".py",
   "mimetype": "text/x-python",
   "name": "python",
   "nbconvert_exporter": "python",
   "pygments_lexer": "ipython3",
   "version": "3.7.0"
  }
 },
 "nbformat": 4,
 "nbformat_minor": 2
}
