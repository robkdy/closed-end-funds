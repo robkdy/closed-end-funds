{
 "cells": [
  {
   "cell_type": "markdown",
   "metadata": {},
   "source": [
    "# Get data through scraping\n",
    "\n",
    "This Jupyter notebook was used to get all the historical data of all the closed-end funds. Only funds with a history of at least 5 years were kept. Please note, the cells were not run in order as there was some major clean-up to do after scraping the data from a website. The final data file was written to '.data/all_cefs.csv'."
   ]
  },
  {
   "cell_type": "code",
   "execution_count": 1,
   "metadata": {},
   "outputs": [],
   "source": [
    "import pandas as pd\n",
    "import requests\n",
    "from pandas.compat import StringIO, BytesIO\n",
    "from selenium import webdriver\n",
    "from selenium.webdriver.common.by import By\n",
    "from selenium.webdriver.support.ui import WebDriverWait\n",
    "from selenium.webdriver.support import expected_conditions as EC\n",
    "import pyperclip\n",
    "import csv\n",
    "import matplotlib.pyplot as plt\n",
    "import time\n",
    "import numpy as np"
   ]
  },
  {
   "cell_type": "code",
   "execution_count": 2,
   "metadata": {},
   "outputs": [],
   "source": [
    "tickers = pd.read_csv('tickers.csv', header=None, names=['ticker'])"
   ]
  },
  {
   "cell_type": "code",
   "execution_count": 41,
   "metadata": {},
   "outputs": [],
   "source": [
    "# check for non adjusted closes\n",
    "not_adj = []\n",
    "for t in tickers.ticker:\n",
    "    df = pd.read_csv('./data/' + t + '.csv')\n",
    "    if df.iloc[-1]['Close'] == df.iloc[-1]['Adj Close']:\n",
    "        not_adj.append(t)"
   ]
  },
  {
   "cell_type": "code",
   "execution_count": 52,
   "metadata": {},
   "outputs": [],
   "source": [
    "# clean data in csv files\n",
    "for t in not_adj:\n",
    "    df = pd.read_csv('./data/' + t + '.csv')\n",
    "    df.dropna(subset=(['NAV'])).to_csv('./data/' + t + '.csv')"
   ]
  },
  {
   "cell_type": "code",
   "execution_count": 60,
   "metadata": {},
   "outputs": [],
   "source": [
    "# check for non adjusted closes again\n",
    "not_adj5 = []\n",
    "for t in not_adj:\n",
    "    df = pd.read_csv('./data/' + t + '.csv')\n",
    "    if df.iloc[-1]['Close'] == df.iloc[-1]['Adj Close']:\n",
    "        not_adj5.append(t)"
   ]
  },
  {
   "cell_type": "code",
   "execution_count": 61,
   "metadata": {},
   "outputs": [
    {
     "data": {
      "text/plain": [
       "array(['NRGX', 'OCCI', 'PHYS', 'PNI', 'PSLV', 'SPPP', 'TURN'], dtype='<U4')"
      ]
     },
     "execution_count": 61,
     "metadata": {},
     "output_type": "execute_result"
    }
   ],
   "source": [
    "np.array(not_adj5)"
   ]
  },
  {
   "cell_type": "code",
   "execution_count": 70,
   "metadata": {},
   "outputs": [
    {
     "name": "stderr",
     "output_type": "stream",
     "text": [
      "C:\\Users\\robin\\Anaconda3\\lib\\site-packages\\pandas\\core\\frame.py:6211: FutureWarning: Sorting because non-concatenation axis is not aligned. A future version\n",
      "of pandas will change to not sort by default.\n",
      "\n",
      "To accept the future behavior, pass 'sort=False'.\n",
      "\n",
      "To retain the current behavior and silence the warning, pass 'sort=True'.\n",
      "\n",
      "  sort=sort)\n"
     ]
    }
   ],
   "source": [
    "df = pd.DataFrame()\n",
    "\n",
    "for t in tickers.ticker:\n",
    "    dft = pd.read_csv('./data/'+ t + '.csv', parse_dates=True)\n",
    "    \n",
    "    # only append fund if at least 5 years old\n",
    "    if dft.iloc[-1]['Date'] < '2014-03-02':\n",
    "        dft['ticker'] = t\n",
    "        df = df.append(dft)\n",
    "    \n",
    "df.to_csv('./data/all_cefs.csv')"
   ]
  },
  {
   "cell_type": "code",
   "execution_count": 75,
   "metadata": {},
   "outputs": [],
   "source": [
    "df.drop(columns=['Unnamed: 0'], inplace=True)"
   ]
  },
  {
   "cell_type": "code",
   "execution_count": 78,
   "metadata": {},
   "outputs": [],
   "source": [
    "df = df[['ticker', 'Date', 'Open', 'High', 'Low', 'Close', 'Adj Close', 'NAV', 'Adj NAV', 'Volume']]"
   ]
  },
  {
   "cell_type": "code",
   "execution_count": 81,
   "metadata": {},
   "outputs": [],
   "source": [
    "df.rename(index=str, columns={'Adj Close': 'Adj_Close', 'Adj NAV': 'Adj_NAV'}, inplace=True)"
   ]
  },
  {
   "cell_type": "code",
   "execution_count": 82,
   "metadata": {},
   "outputs": [
    {
     "data": {
      "text/html": [
       "<div>\n",
       "<style scoped>\n",
       "    .dataframe tbody tr th:only-of-type {\n",
       "        vertical-align: middle;\n",
       "    }\n",
       "\n",
       "    .dataframe tbody tr th {\n",
       "        vertical-align: top;\n",
       "    }\n",
       "\n",
       "    .dataframe thead th {\n",
       "        text-align: right;\n",
       "    }\n",
       "</style>\n",
       "<table border=\"1\" class=\"dataframe\">\n",
       "  <thead>\n",
       "    <tr style=\"text-align: right;\">\n",
       "      <th></th>\n",
       "      <th>ticker</th>\n",
       "      <th>Date</th>\n",
       "      <th>Open</th>\n",
       "      <th>High</th>\n",
       "      <th>Low</th>\n",
       "      <th>Close</th>\n",
       "      <th>Adj_Close</th>\n",
       "      <th>NAV</th>\n",
       "      <th>Adj_NAV</th>\n",
       "      <th>Volume</th>\n",
       "    </tr>\n",
       "  </thead>\n",
       "  <tbody>\n",
       "    <tr>\n",
       "      <th>0</th>\n",
       "      <td>ACP</td>\n",
       "      <td>2019-03-05</td>\n",
       "      <td>11.86</td>\n",
       "      <td>11.90</td>\n",
       "      <td>11.82</td>\n",
       "      <td>11.89</td>\n",
       "      <td>11.89</td>\n",
       "      <td>12.85</td>\n",
       "      <td>12.85</td>\n",
       "      <td>54156</td>\n",
       "    </tr>\n",
       "    <tr>\n",
       "      <th>1</th>\n",
       "      <td>ACP</td>\n",
       "      <td>2019-03-04</td>\n",
       "      <td>11.91</td>\n",
       "      <td>11.95</td>\n",
       "      <td>11.84</td>\n",
       "      <td>11.88</td>\n",
       "      <td>11.88</td>\n",
       "      <td>12.84</td>\n",
       "      <td>12.84</td>\n",
       "      <td>66729</td>\n",
       "    </tr>\n",
       "    <tr>\n",
       "      <th>2</th>\n",
       "      <td>ACP</td>\n",
       "      <td>2019-03-01</td>\n",
       "      <td>11.91</td>\n",
       "      <td>11.93</td>\n",
       "      <td>11.85</td>\n",
       "      <td>11.89</td>\n",
       "      <td>11.89</td>\n",
       "      <td>12.88</td>\n",
       "      <td>12.88</td>\n",
       "      <td>80627</td>\n",
       "    </tr>\n",
       "    <tr>\n",
       "      <th>3</th>\n",
       "      <td>ACP</td>\n",
       "      <td>2019-02-28</td>\n",
       "      <td>11.81</td>\n",
       "      <td>11.87</td>\n",
       "      <td>11.79</td>\n",
       "      <td>11.87</td>\n",
       "      <td>11.87</td>\n",
       "      <td>12.89</td>\n",
       "      <td>12.89</td>\n",
       "      <td>67968</td>\n",
       "    </tr>\n",
       "    <tr>\n",
       "      <th>4</th>\n",
       "      <td>ACP</td>\n",
       "      <td>2019-02-27</td>\n",
       "      <td>11.87</td>\n",
       "      <td>11.90</td>\n",
       "      <td>11.74</td>\n",
       "      <td>11.82</td>\n",
       "      <td>11.82</td>\n",
       "      <td>12.87</td>\n",
       "      <td>12.87</td>\n",
       "      <td>123751</td>\n",
       "    </tr>\n",
       "  </tbody>\n",
       "</table>\n",
       "</div>"
      ],
      "text/plain": [
       "  ticker        Date   Open   High    Low  Close  Adj_Close    NAV  Adj_NAV  \\\n",
       "0    ACP  2019-03-05  11.86  11.90  11.82  11.89      11.89  12.85    12.85   \n",
       "1    ACP  2019-03-04  11.91  11.95  11.84  11.88      11.88  12.84    12.84   \n",
       "2    ACP  2019-03-01  11.91  11.93  11.85  11.89      11.89  12.88    12.88   \n",
       "3    ACP  2019-02-28  11.81  11.87  11.79  11.87      11.87  12.89    12.89   \n",
       "4    ACP  2019-02-27  11.87  11.90  11.74  11.82      11.82  12.87    12.87   \n",
       "\n",
       "   Volume  \n",
       "0   54156  \n",
       "1   66729  \n",
       "2   80627  \n",
       "3   67968  \n",
       "4  123751  "
      ]
     },
     "execution_count": 82,
     "metadata": {},
     "output_type": "execute_result"
    }
   ],
   "source": [
    "df.head()"
   ]
  },
  {
   "cell_type": "code",
   "execution_count": 83,
   "metadata": {},
   "outputs": [],
   "source": [
    "df.to_csv('./data/all_cefs.csv')"
   ]
  },
  {
   "cell_type": "code",
   "execution_count": 59,
   "metadata": {},
   "outputs": [],
   "source": [
    "# cell to create csv after copying manually\n",
    "t = pyperclip.paste()\n",
    "df = pd.read_csv(StringIO(t), sep='\\t', header=0, index_col=0)\n",
    "df.to_csv('./data/TWN.csv')"
   ]
  },
  {
   "cell_type": "code",
   "execution_count": null,
   "metadata": {},
   "outputs": [],
   "source": [
    "# scrape the prices for each ticker\n",
    "# write a csv file for each ticker\n",
    "driver = webdriver.Chrome()\n",
    "\n",
    "for ticker in tickers.ticker:\n",
    "    driver.get('https://cefanalyzer.com/app/quote/' + ticker + '/historical')\n",
    "    WebDriverWait(driver, 60).until(EC.presence_of_element_located((By.CLASS_NAME, \"ReactVirtualized__Table\")))\n",
    "    time.sleep(10)\n",
    "    driver.find_element_by_xpath(\"//button[@class='btn btn-default' and text() = ' Copy Prices']\").click()\n",
    "    t = pyperclip.paste()\n",
    "    df = pd.read_csv(StringIO(t), sep='\\t', header=0, index_col=0)\n",
    "    df.to_csv('./data/' + ticker + '.csv')\n",
    "driver.quit()"
   ]
  },
  {
   "cell_type": "code",
   "execution_count": 6,
   "metadata": {},
   "outputs": [],
   "source": [
    "# scrape the distributions for each ticker\n",
    "# write a csv file of the distribution for each ticker\n",
    "driver = webdriver.Chrome()\n",
    "\n",
    "for ticker in tickers.ticker:\n",
    "    driver.get('https://cefanalyzer.com/app/quote/' + ticker + '/historical')\n",
    "    WebDriverWait(driver, 20).until(EC.presence_of_element_located((By.CLASS_NAME, \"ReactVirtualized__Table\")))\n",
    "    driver.find_element_by_xpath(\"//button[@class='btn btn-default' and text() = ' Copy Distributions']\").click()\n",
    "    t = pyperclip.paste()\n",
    "    df = pd.read_csv(StringIO(t), sep='\\t', header=0, index_col=0)\n",
    "    df.to_csv('./data/' + ticker + '_d.csv')\n",
    "driver.quit()"
   ]
  },
  {
   "cell_type": "code",
   "execution_count": 9,
   "metadata": {},
   "outputs": [],
   "source": [
    "driver.quit()\n"
   ]
  },
  {
   "cell_type": "code",
   "execution_count": null,
   "metadata": {},
   "outputs": [],
   "source": []
  },
  {
   "cell_type": "code",
   "execution_count": null,
   "metadata": {},
   "outputs": [],
   "source": []
  },
  {
   "cell_type": "code",
   "execution_count": null,
   "metadata": {},
   "outputs": [],
   "source": []
  },
  {
   "cell_type": "code",
   "execution_count": null,
   "metadata": {},
   "outputs": [],
   "source": []
  },
  {
   "cell_type": "code",
   "execution_count": null,
   "metadata": {},
   "outputs": [],
   "source": []
  }
 ],
 "metadata": {
  "kernelspec": {
   "display_name": "Python 3",
   "language": "python",
   "name": "python3"
  },
  "language_info": {
   "codemirror_mode": {
    "name": "ipython",
    "version": 3
   },
   "file_extension": ".py",
   "mimetype": "text/x-python",
   "name": "python",
   "nbconvert_exporter": "python",
   "pygments_lexer": "ipython3",
   "version": "3.7.0"
  }
 },
 "nbformat": 4,
 "nbformat_minor": 2
}
