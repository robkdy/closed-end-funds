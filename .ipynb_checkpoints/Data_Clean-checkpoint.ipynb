{
 "cells": [
  {
   "cell_type": "code",
   "execution_count": 1,
   "metadata": {},
   "outputs": [],
   "source": [
    "import pandas as pd\n",
    "import matplotlib.pyplot as plt\n",
    "import numpy as np\n",
    "import matplotlib as mpl\n",
    "import datetime"
   ]
  },
  {
   "cell_type": "code",
   "execution_count": 2,
   "metadata": {},
   "outputs": [
    {
     "data": {
      "text/html": [
       "<div>\n",
       "<style scoped>\n",
       "    .dataframe tbody tr th:only-of-type {\n",
       "        vertical-align: middle;\n",
       "    }\n",
       "\n",
       "    .dataframe tbody tr th {\n",
       "        vertical-align: top;\n",
       "    }\n",
       "\n",
       "    .dataframe thead th {\n",
       "        text-align: right;\n",
       "    }\n",
       "</style>\n",
       "<table border=\"1\" class=\"dataframe\">\n",
       "  <thead>\n",
       "    <tr style=\"text-align: right;\">\n",
       "      <th></th>\n",
       "      <th>Unnamed: 0</th>\n",
       "      <th>ticker</th>\n",
       "      <th>Date</th>\n",
       "      <th>Open</th>\n",
       "      <th>High</th>\n",
       "      <th>Low</th>\n",
       "      <th>Close</th>\n",
       "      <th>Adj_Close</th>\n",
       "      <th>NAV</th>\n",
       "      <th>Adj_NAV</th>\n",
       "      <th>Volume</th>\n",
       "    </tr>\n",
       "  </thead>\n",
       "  <tbody>\n",
       "    <tr>\n",
       "      <th>0</th>\n",
       "      <td>0</td>\n",
       "      <td>ACP</td>\n",
       "      <td>2019-03-05</td>\n",
       "      <td>11.86</td>\n",
       "      <td>11.90</td>\n",
       "      <td>11.82</td>\n",
       "      <td>11.89</td>\n",
       "      <td>11.89</td>\n",
       "      <td>12.85</td>\n",
       "      <td>12.85</td>\n",
       "      <td>54156</td>\n",
       "    </tr>\n",
       "    <tr>\n",
       "      <th>1</th>\n",
       "      <td>1</td>\n",
       "      <td>ACP</td>\n",
       "      <td>2019-03-04</td>\n",
       "      <td>11.91</td>\n",
       "      <td>11.95</td>\n",
       "      <td>11.84</td>\n",
       "      <td>11.88</td>\n",
       "      <td>11.88</td>\n",
       "      <td>12.84</td>\n",
       "      <td>12.84</td>\n",
       "      <td>66729</td>\n",
       "    </tr>\n",
       "    <tr>\n",
       "      <th>2</th>\n",
       "      <td>2</td>\n",
       "      <td>ACP</td>\n",
       "      <td>2019-03-01</td>\n",
       "      <td>11.91</td>\n",
       "      <td>11.93</td>\n",
       "      <td>11.85</td>\n",
       "      <td>11.89</td>\n",
       "      <td>11.89</td>\n",
       "      <td>12.88</td>\n",
       "      <td>12.88</td>\n",
       "      <td>80627</td>\n",
       "    </tr>\n",
       "    <tr>\n",
       "      <th>3</th>\n",
       "      <td>3</td>\n",
       "      <td>ACP</td>\n",
       "      <td>2019-02-28</td>\n",
       "      <td>11.81</td>\n",
       "      <td>11.87</td>\n",
       "      <td>11.79</td>\n",
       "      <td>11.87</td>\n",
       "      <td>11.87</td>\n",
       "      <td>12.89</td>\n",
       "      <td>12.89</td>\n",
       "      <td>67968</td>\n",
       "    </tr>\n",
       "    <tr>\n",
       "      <th>4</th>\n",
       "      <td>4</td>\n",
       "      <td>ACP</td>\n",
       "      <td>2019-02-27</td>\n",
       "      <td>11.87</td>\n",
       "      <td>11.90</td>\n",
       "      <td>11.74</td>\n",
       "      <td>11.82</td>\n",
       "      <td>11.82</td>\n",
       "      <td>12.87</td>\n",
       "      <td>12.87</td>\n",
       "      <td>123751</td>\n",
       "    </tr>\n",
       "  </tbody>\n",
       "</table>\n",
       "</div>"
      ],
      "text/plain": [
       "   Unnamed: 0 ticker        Date   Open   High    Low  Close  Adj_Close  \\\n",
       "0           0    ACP  2019-03-05  11.86  11.90  11.82  11.89      11.89   \n",
       "1           1    ACP  2019-03-04  11.91  11.95  11.84  11.88      11.88   \n",
       "2           2    ACP  2019-03-01  11.91  11.93  11.85  11.89      11.89   \n",
       "3           3    ACP  2019-02-28  11.81  11.87  11.79  11.87      11.87   \n",
       "4           4    ACP  2019-02-27  11.87  11.90  11.74  11.82      11.82   \n",
       "\n",
       "     NAV  Adj_NAV  Volume  \n",
       "0  12.85    12.85   54156  \n",
       "1  12.84    12.84   66729  \n",
       "2  12.88    12.88   80627  \n",
       "3  12.89    12.89   67968  \n",
       "4  12.87    12.87  123751  "
      ]
     },
     "execution_count": 2,
     "metadata": {},
     "output_type": "execute_result"
    }
   ],
   "source": [
    "# read in the data set, extract all the ticker symbols into a list\n",
    "df = pd.read_csv('./data/all_cefs.csv')\n",
    "tickers = sorted(list(set(df.ticker)))\n",
    "df.head()"
   ]
  },
  {
   "cell_type": "code",
   "execution_count": 3,
   "metadata": {},
   "outputs": [
    {
     "data": {
      "text/plain": [
       "Unnamed: 0        0\n",
       "ticker            0\n",
       "Date              0\n",
       "Open          10850\n",
       "High          10850\n",
       "Low           10850\n",
       "Close             0\n",
       "Adj_Close         0\n",
       "NAV               1\n",
       "Adj_NAV           1\n",
       "Volume            0\n",
       "dtype: int64"
      ]
     },
     "execution_count": 3,
     "metadata": {},
     "output_type": "execute_result"
    }
   ],
   "source": [
    "# see what data is missing\n",
    "df.isna().sum()"
   ]
  },
  {
   "cell_type": "code",
   "execution_count": 4,
   "metadata": {},
   "outputs": [],
   "source": [
    "# do some data cleaning\n",
    "# if Open, High, or Low missing, set to Close\n",
    "# drop row if NAV is missing\n",
    "df.drop(columns=['Unnamed: 0'], inplace=True)\n",
    "df.dropna(subset=(['NAV']), inplace=True)\n",
    "df.Open.fillna(value=df.Close, inplace=True)\n",
    "df.High.fillna(value=df.Close, inplace=True)\n",
    "df.Low.fillna(value=df.Close, inplace=True)"
   ]
  },
  {
   "cell_type": "code",
   "execution_count": 5,
   "metadata": {},
   "outputs": [
    {
     "data": {
      "text/plain": [
       "ticker       0\n",
       "Date         0\n",
       "Open         0\n",
       "High         0\n",
       "Low          0\n",
       "Close        0\n",
       "Adj_Close    0\n",
       "NAV          0\n",
       "Adj_NAV      0\n",
       "Volume       0\n",
       "dtype: int64"
      ]
     },
     "execution_count": 5,
     "metadata": {},
     "output_type": "execute_result"
    }
   ],
   "source": [
    "# make sure nothing is missing now\n",
    "df.isna().sum()"
   ]
  },
  {
   "cell_type": "code",
   "execution_count": 6,
   "metadata": {},
   "outputs": [
    {
     "data": {
      "text/plain": [
       "Date         datetime64[ns]\n",
       "Open                float64\n",
       "High                float64\n",
       "Low                 float64\n",
       "Close               float64\n",
       "Adj_Close           float64\n",
       "NAV                 float64\n",
       "Adj_NAV             float64\n",
       "Volume                int64\n",
       "dtype: object"
      ]
     },
     "execution_count": 6,
     "metadata": {},
     "output_type": "execute_result"
    }
   ],
   "source": [
    "# set index to ticker and set date column to type datetime. check types\n",
    "df1 = df.set_index(['ticker'])\n",
    "df1.Date = pd.to_datetime(df1.Date)\n",
    "df1.dtypes"
   ]
  },
  {
   "cell_type": "code",
   "execution_count": 7,
   "metadata": {},
   "outputs": [],
   "source": [
    "df1.set_index('Date', append=True, inplace=True)"
   ]
  },
  {
   "cell_type": "code",
   "execution_count": 10,
   "metadata": {},
   "outputs": [],
   "source": [
    "df1.sort_index(inplace=True)\n",
    "\n",
    "# drop columns to reduce size of dataset\n",
    "df1.drop(columns=['Open', 'High', 'Low'], inplace=True)"
   ]
  },
  {
   "cell_type": "code",
   "execution_count": 11,
   "metadata": {},
   "outputs": [
    {
     "data": {
      "text/html": [
       "<div>\n",
       "<style scoped>\n",
       "    .dataframe tbody tr th:only-of-type {\n",
       "        vertical-align: middle;\n",
       "    }\n",
       "\n",
       "    .dataframe tbody tr th {\n",
       "        vertical-align: top;\n",
       "    }\n",
       "\n",
       "    .dataframe thead th {\n",
       "        text-align: right;\n",
       "    }\n",
       "</style>\n",
       "<table border=\"1\" class=\"dataframe\">\n",
       "  <thead>\n",
       "    <tr style=\"text-align: right;\">\n",
       "      <th></th>\n",
       "      <th></th>\n",
       "      <th>Close</th>\n",
       "      <th>Adj_Close</th>\n",
       "      <th>NAV</th>\n",
       "      <th>Adj_NAV</th>\n",
       "      <th>Volume</th>\n",
       "    </tr>\n",
       "    <tr>\n",
       "      <th>ticker</th>\n",
       "      <th>Date</th>\n",
       "      <th></th>\n",
       "      <th></th>\n",
       "      <th></th>\n",
       "      <th></th>\n",
       "      <th></th>\n",
       "    </tr>\n",
       "  </thead>\n",
       "  <tbody>\n",
       "    <tr>\n",
       "      <th rowspan=\"5\" valign=\"top\">ACP</th>\n",
       "      <th>2011-01-27</th>\n",
       "      <td>20.00</td>\n",
       "      <td>8.93</td>\n",
       "      <td>19.06</td>\n",
       "      <td>9.04</td>\n",
       "      <td>335449</td>\n",
       "    </tr>\n",
       "    <tr>\n",
       "      <th>2011-01-28</th>\n",
       "      <td>20.10</td>\n",
       "      <td>8.98</td>\n",
       "      <td>19.05</td>\n",
       "      <td>9.03</td>\n",
       "      <td>15700</td>\n",
       "    </tr>\n",
       "    <tr>\n",
       "      <th>2011-01-31</th>\n",
       "      <td>20.20</td>\n",
       "      <td>9.02</td>\n",
       "      <td>18.99</td>\n",
       "      <td>9.01</td>\n",
       "      <td>7400</td>\n",
       "    </tr>\n",
       "    <tr>\n",
       "      <th>2011-02-01</th>\n",
       "      <td>20.10</td>\n",
       "      <td>8.98</td>\n",
       "      <td>19.00</td>\n",
       "      <td>9.01</td>\n",
       "      <td>10150</td>\n",
       "    </tr>\n",
       "    <tr>\n",
       "      <th>2011-02-02</th>\n",
       "      <td>20.05</td>\n",
       "      <td>8.95</td>\n",
       "      <td>19.02</td>\n",
       "      <td>9.02</td>\n",
       "      <td>12050</td>\n",
       "    </tr>\n",
       "  </tbody>\n",
       "</table>\n",
       "</div>"
      ],
      "text/plain": [
       "                   Close  Adj_Close    NAV  Adj_NAV  Volume\n",
       "ticker Date                                                \n",
       "ACP    2011-01-27  20.00       8.93  19.06     9.04  335449\n",
       "       2011-01-28  20.10       8.98  19.05     9.03   15700\n",
       "       2011-01-31  20.20       9.02  18.99     9.01    7400\n",
       "       2011-02-01  20.10       8.98  19.00     9.01   10150\n",
       "       2011-02-02  20.05       8.95  19.02     9.02   12050"
      ]
     },
     "execution_count": 11,
     "metadata": {},
     "output_type": "execute_result"
    }
   ],
   "source": [
    "df1.head()"
   ]
  },
  {
   "cell_type": "code",
   "execution_count": 12,
   "metadata": {},
   "outputs": [],
   "source": [
    "# fix data errors\n",
    "\n",
    "df1.loc[('KF','2003-01-15'), 'NAV'] = None\n",
    "df1.loc[('KF','2003-01-15'), 'Adj_NAV'] = None\n",
    "df1.loc[('MIN','2002-05-15'), 'NAV'] = None\n",
    "df1.loc[('MIN','2002-05-15'), 'Adj_NAV'] = None"
   ]
  },
  {
   "cell_type": "code",
   "execution_count": 13,
   "metadata": {},
   "outputs": [],
   "source": [
    "df1.fillna(method='ffill', inplace=True)"
   ]
  },
  {
   "cell_type": "code",
   "execution_count": 14,
   "metadata": {},
   "outputs": [],
   "source": [
    "df1.to_csv('./data/all_cefs_clean.csv')"
   ]
  },
  {
   "cell_type": "code",
   "execution_count": 8,
   "metadata": {},
   "outputs": [
    {
     "data": {
      "text/html": [
       "<div>\n",
       "<style scoped>\n",
       "    .dataframe tbody tr th:only-of-type {\n",
       "        vertical-align: middle;\n",
       "    }\n",
       "\n",
       "    .dataframe tbody tr th {\n",
       "        vertical-align: top;\n",
       "    }\n",
       "\n",
       "    .dataframe thead th {\n",
       "        text-align: right;\n",
       "    }\n",
       "</style>\n",
       "<table border=\"1\" class=\"dataframe\">\n",
       "  <thead>\n",
       "    <tr style=\"text-align: right;\">\n",
       "      <th></th>\n",
       "      <th>Ticker</th>\n",
       "      <th>Category</th>\n",
       "      <th>Mkt. Cap.</th>\n",
       "      <th>Active Exp.</th>\n",
       "      <th>Net Exp.</th>\n",
       "      <th>Dist. Freq.</th>\n",
       "    </tr>\n",
       "  </thead>\n",
       "  <tbody>\n",
       "    <tr>\n",
       "      <th>0</th>\n",
       "      <td>ACP</td>\n",
       "      <td>F.L</td>\n",
       "      <td>1.527958e+05</td>\n",
       "      <td>0.016755</td>\n",
       "      <td>0.023619</td>\n",
       "      <td>12.0</td>\n",
       "    </tr>\n",
       "    <tr>\n",
       "      <th>1</th>\n",
       "      <td>ACV</td>\n",
       "      <td>E.B</td>\n",
       "      <td>2.230959e+05</td>\n",
       "      <td>0.010566</td>\n",
       "      <td>0.022416</td>\n",
       "      <td>12.0</td>\n",
       "    </tr>\n",
       "    <tr>\n",
       "      <th>2</th>\n",
       "      <td>ADX</td>\n",
       "      <td>E.G</td>\n",
       "      <td>1.430408e+06</td>\n",
       "      <td>0.005337</td>\n",
       "      <td>0.005337</td>\n",
       "      <td>4.0</td>\n",
       "    </tr>\n",
       "    <tr>\n",
       "      <th>3</th>\n",
       "      <td>AEF</td>\n",
       "      <td>E.W.CL</td>\n",
       "      <td>6.719044e+04</td>\n",
       "      <td>0.018305</td>\n",
       "      <td>0.020418</td>\n",
       "      <td>2.0</td>\n",
       "    </tr>\n",
       "    <tr>\n",
       "      <th>4</th>\n",
       "      <td>AFB</td>\n",
       "      <td>M.US</td>\n",
       "      <td>3.695975e+05</td>\n",
       "      <td>0.006044</td>\n",
       "      <td>0.010214</td>\n",
       "      <td>12.0</td>\n",
       "    </tr>\n",
       "  </tbody>\n",
       "</table>\n",
       "</div>"
      ],
      "text/plain": [
       "  Ticker Category     Mkt. Cap.  Active Exp.  Net Exp.  Dist. Freq.\n",
       "0    ACP      F.L  1.527958e+05     0.016755  0.023619         12.0\n",
       "1    ACV      E.B  2.230959e+05     0.010566  0.022416         12.0\n",
       "2    ADX      E.G  1.430408e+06     0.005337  0.005337          4.0\n",
       "3    AEF   E.W.CL  6.719044e+04     0.018305  0.020418          2.0\n",
       "4    AFB     M.US  3.695975e+05     0.006044  0.010214         12.0"
      ]
     },
     "execution_count": 8,
     "metadata": {},
     "output_type": "execute_result"
    }
   ],
   "source": [
    "# read in other fund data\n",
    "fdf = pd.read_csv('cef_fundem.csv')\n",
    "fdf.head()"
   ]
  },
  {
   "cell_type": "code",
   "execution_count": 9,
   "metadata": {},
   "outputs": [],
   "source": [
    "fdf1 = fdf.set_index('Ticker')"
   ]
  },
  {
   "cell_type": "code",
   "execution_count": 10,
   "metadata": {},
   "outputs": [
    {
     "data": {
      "text/plain": [
       "array(['F.L', 'E.B', 'E.G', 'E.W.CL', 'M.US', 'E.W', 'M.CA', 'E.W.AP',\n",
       "       'F.G', 'E.P', 'F.V', 'E.R', 'F.M', 'E.E', 'M.FL', 'M.NY', 'F.C',\n",
       "       'M.VA', 'F.A', 'E.H', 'E.X', 'E.F', 'E.U', 'F.W', 'M.MD', 'E.W.CN',\n",
       "       'E.W.EU', 'O.C', 'E.M', 'F.P', 'E.C', 'E.W.EM', 'M.NJ', 'E.W.DE',\n",
       "       'E.W.AU', 'E.W.IN', 'E.W.IE', 'E.W.JP', 'E.W.KR', 'M.MA', 'M.MI',\n",
       "       'M.PA', 'E.W.MX', 'M.AZ', 'M.GA', 'M.MN', 'M.NC', 'M.MO', 'M.CT',\n",
       "       'M.TX', 'M.OH', 'E.W.CH', 'E.W.TW', 'M.CO', 'F.T'], dtype=object)"
      ]
     },
     "execution_count": 10,
     "metadata": {},
     "output_type": "execute_result"
    }
   ],
   "source": [
    "# see what categories the funds are in\n",
    "fdf.Category.unique()"
   ]
  },
  {
   "cell_type": "code",
   "execution_count": 11,
   "metadata": {},
   "outputs": [],
   "source": [
    "# too many categories, narrow it down to five categories below\n",
    "\n",
    "for i in range(len(fdf1)):\n",
    "    if fdf1.iloc[i,0].startswith('E.W'):\n",
    "        fdf1.iloc[i,0] = 'Equity Foreign'\n",
    "    elif fdf1.iloc[i,0].startswith('E.'):\n",
    "        fdf1.iloc[i,0] = 'Equity US'\n",
    "    elif fdf1.iloc[i,0].startswith('F'):\n",
    "        fdf1.iloc[i,0] = 'Fixed Income'\n",
    "    elif fdf1.iloc[i,0].startswith('M'):\n",
    "        fdf1.iloc[i,0] = 'Municipal Bonds'\n",
    "    else:\n",
    "        fdf1.iloc[i,0] = 'Precious Metals'"
   ]
  },
  {
   "cell_type": "code",
   "execution_count": 12,
   "metadata": {},
   "outputs": [
    {
     "data": {
      "text/html": [
       "<div>\n",
       "<style scoped>\n",
       "    .dataframe tbody tr th:only-of-type {\n",
       "        vertical-align: middle;\n",
       "    }\n",
       "\n",
       "    .dataframe tbody tr th {\n",
       "        vertical-align: top;\n",
       "    }\n",
       "\n",
       "    .dataframe thead th {\n",
       "        text-align: right;\n",
       "    }\n",
       "</style>\n",
       "<table border=\"1\" class=\"dataframe\">\n",
       "  <thead>\n",
       "    <tr style=\"text-align: right;\">\n",
       "      <th></th>\n",
       "      <th>Mkt. Cap.</th>\n",
       "      <th>Active Exp.</th>\n",
       "      <th>Net Exp.</th>\n",
       "      <th>Dist. Freq.</th>\n",
       "    </tr>\n",
       "    <tr>\n",
       "      <th>Category</th>\n",
       "      <th></th>\n",
       "      <th></th>\n",
       "      <th></th>\n",
       "      <th></th>\n",
       "    </tr>\n",
       "  </thead>\n",
       "  <tbody>\n",
       "    <tr>\n",
       "      <th>Equity Foreign</th>\n",
       "      <td>39</td>\n",
       "      <td>39</td>\n",
       "      <td>39</td>\n",
       "      <td>39</td>\n",
       "    </tr>\n",
       "    <tr>\n",
       "      <th>Equity US</th>\n",
       "      <td>148</td>\n",
       "      <td>146</td>\n",
       "      <td>146</td>\n",
       "      <td>145</td>\n",
       "    </tr>\n",
       "    <tr>\n",
       "      <th>Fixed Income</th>\n",
       "      <td>155</td>\n",
       "      <td>154</td>\n",
       "      <td>154</td>\n",
       "      <td>155</td>\n",
       "    </tr>\n",
       "    <tr>\n",
       "      <th>Municipal Bonds</th>\n",
       "      <td>150</td>\n",
       "      <td>149</td>\n",
       "      <td>149</td>\n",
       "      <td>150</td>\n",
       "    </tr>\n",
       "    <tr>\n",
       "      <th>Precious Metals</th>\n",
       "      <td>4</td>\n",
       "      <td>4</td>\n",
       "      <td>4</td>\n",
       "      <td>0</td>\n",
       "    </tr>\n",
       "  </tbody>\n",
       "</table>\n",
       "</div>"
      ],
      "text/plain": [
       "                 Mkt. Cap.  Active Exp.  Net Exp.  Dist. Freq.\n",
       "Category                                                      \n",
       "Equity Foreign          39           39        39           39\n",
       "Equity US              148          146       146          145\n",
       "Fixed Income           155          154       154          155\n",
       "Municipal Bonds        150          149       149          150\n",
       "Precious Metals          4            4         4            0"
      ]
     },
     "execution_count": 12,
     "metadata": {},
     "output_type": "execute_result"
    }
   ],
   "source": [
    "fdf1.groupby('Category').count()"
   ]
  },
  {
   "cell_type": "code",
   "execution_count": 13,
   "metadata": {},
   "outputs": [
    {
     "data": {
      "text/html": [
       "<div>\n",
       "<style scoped>\n",
       "    .dataframe tbody tr th:only-of-type {\n",
       "        vertical-align: middle;\n",
       "    }\n",
       "\n",
       "    .dataframe tbody tr th {\n",
       "        vertical-align: top;\n",
       "    }\n",
       "\n",
       "    .dataframe thead th {\n",
       "        text-align: right;\n",
       "    }\n",
       "</style>\n",
       "<table border=\"1\" class=\"dataframe\">\n",
       "  <thead>\n",
       "    <tr style=\"text-align: right;\">\n",
       "      <th></th>\n",
       "      <th>Category</th>\n",
       "      <th>Mkt_Cap</th>\n",
       "      <th>Act_Exp</th>\n",
       "      <th>Net_Exp</th>\n",
       "      <th>Dist_Freq</th>\n",
       "    </tr>\n",
       "    <tr>\n",
       "      <th>Ticker</th>\n",
       "      <th></th>\n",
       "      <th></th>\n",
       "      <th></th>\n",
       "      <th></th>\n",
       "      <th></th>\n",
       "    </tr>\n",
       "  </thead>\n",
       "  <tbody>\n",
       "    <tr>\n",
       "      <th>ACP</th>\n",
       "      <td>Fixed Income</td>\n",
       "      <td>1.527958e+05</td>\n",
       "      <td>0.016755</td>\n",
       "      <td>0.023619</td>\n",
       "      <td>12.0</td>\n",
       "    </tr>\n",
       "    <tr>\n",
       "      <th>ACV</th>\n",
       "      <td>Equity US</td>\n",
       "      <td>2.230959e+05</td>\n",
       "      <td>0.010566</td>\n",
       "      <td>0.022416</td>\n",
       "      <td>12.0</td>\n",
       "    </tr>\n",
       "    <tr>\n",
       "      <th>ADX</th>\n",
       "      <td>Equity US</td>\n",
       "      <td>1.430408e+06</td>\n",
       "      <td>0.005337</td>\n",
       "      <td>0.005337</td>\n",
       "      <td>4.0</td>\n",
       "    </tr>\n",
       "    <tr>\n",
       "      <th>AEF</th>\n",
       "      <td>Equity Foreign</td>\n",
       "      <td>6.719044e+04</td>\n",
       "      <td>0.018305</td>\n",
       "      <td>0.020418</td>\n",
       "      <td>2.0</td>\n",
       "    </tr>\n",
       "    <tr>\n",
       "      <th>AFB</th>\n",
       "      <td>Municipal Bonds</td>\n",
       "      <td>3.695975e+05</td>\n",
       "      <td>0.006044</td>\n",
       "      <td>0.010214</td>\n",
       "      <td>12.0</td>\n",
       "    </tr>\n",
       "  </tbody>\n",
       "</table>\n",
       "</div>"
      ],
      "text/plain": [
       "               Category       Mkt_Cap   Act_Exp   Net_Exp  Dist_Freq\n",
       "Ticker                                                              \n",
       "ACP        Fixed Income  1.527958e+05  0.016755  0.023619       12.0\n",
       "ACV           Equity US  2.230959e+05  0.010566  0.022416       12.0\n",
       "ADX           Equity US  1.430408e+06  0.005337  0.005337        4.0\n",
       "AEF      Equity Foreign  6.719044e+04  0.018305  0.020418        2.0\n",
       "AFB     Municipal Bonds  3.695975e+05  0.006044  0.010214       12.0"
      ]
     },
     "execution_count": 13,
     "metadata": {},
     "output_type": "execute_result"
    }
   ],
   "source": [
    "fdf1.rename(columns={'Mkt. Cap.':'Mkt_Cap', 'Active Exp.':'Act_Exp', 'Net Exp.':'Net_Exp', 'Dist. Freq.':'Dist_Freq'}, inplace=True)\n",
    "fdf1.head()"
   ]
  },
  {
   "cell_type": "code",
   "execution_count": 14,
   "metadata": {},
   "outputs": [
    {
     "data": {
      "text/html": [
       "<div>\n",
       "<style scoped>\n",
       "    .dataframe tbody tr th:only-of-type {\n",
       "        vertical-align: middle;\n",
       "    }\n",
       "\n",
       "    .dataframe tbody tr th {\n",
       "        vertical-align: top;\n",
       "    }\n",
       "\n",
       "    .dataframe thead th {\n",
       "        text-align: right;\n",
       "    }\n",
       "</style>\n",
       "<table border=\"1\" class=\"dataframe\">\n",
       "  <thead>\n",
       "    <tr style=\"text-align: right;\">\n",
       "      <th></th>\n",
       "      <th>Category</th>\n",
       "      <th>Mkt_Cap</th>\n",
       "      <th>Act_Exp</th>\n",
       "      <th>Net_Exp</th>\n",
       "      <th>Dist_Freq</th>\n",
       "    </tr>\n",
       "    <tr>\n",
       "      <th>Ticker</th>\n",
       "      <th></th>\n",
       "      <th></th>\n",
       "      <th></th>\n",
       "      <th></th>\n",
       "      <th></th>\n",
       "    </tr>\n",
       "  </thead>\n",
       "  <tbody>\n",
       "    <tr>\n",
       "      <th>ACP</th>\n",
       "      <td>Fixed Income</td>\n",
       "      <td>1.527958e+05</td>\n",
       "      <td>0.016755</td>\n",
       "      <td>0.023619</td>\n",
       "      <td>12.0</td>\n",
       "    </tr>\n",
       "    <tr>\n",
       "      <th>ACV</th>\n",
       "      <td>Equity US</td>\n",
       "      <td>2.230959e+05</td>\n",
       "      <td>0.010566</td>\n",
       "      <td>0.022416</td>\n",
       "      <td>12.0</td>\n",
       "    </tr>\n",
       "    <tr>\n",
       "      <th>ADX</th>\n",
       "      <td>Equity US</td>\n",
       "      <td>1.430408e+06</td>\n",
       "      <td>0.005337</td>\n",
       "      <td>0.005337</td>\n",
       "      <td>4.0</td>\n",
       "    </tr>\n",
       "    <tr>\n",
       "      <th>AEF</th>\n",
       "      <td>Equity Foreign</td>\n",
       "      <td>6.719044e+04</td>\n",
       "      <td>0.018305</td>\n",
       "      <td>0.020418</td>\n",
       "      <td>2.0</td>\n",
       "    </tr>\n",
       "    <tr>\n",
       "      <th>AFB</th>\n",
       "      <td>Municipal Bonds</td>\n",
       "      <td>3.695975e+05</td>\n",
       "      <td>0.006044</td>\n",
       "      <td>0.010214</td>\n",
       "      <td>12.0</td>\n",
       "    </tr>\n",
       "  </tbody>\n",
       "</table>\n",
       "</div>"
      ],
      "text/plain": [
       "               Category       Mkt_Cap   Act_Exp   Net_Exp  Dist_Freq\n",
       "Ticker                                                              \n",
       "ACP        Fixed Income  1.527958e+05  0.016755  0.023619       12.0\n",
       "ACV           Equity US  2.230959e+05  0.010566  0.022416       12.0\n",
       "ADX           Equity US  1.430408e+06  0.005337  0.005337        4.0\n",
       "AEF      Equity Foreign  6.719044e+04  0.018305  0.020418        2.0\n",
       "AFB     Municipal Bonds  3.695975e+05  0.006044  0.010214       12.0"
      ]
     },
     "execution_count": 14,
     "metadata": {},
     "output_type": "execute_result"
    }
   ],
   "source": [
    "fdf1.head()"
   ]
  },
  {
   "cell_type": "code",
   "execution_count": 17,
   "metadata": {},
   "outputs": [],
   "source": [
    "fdf1.to_csv('./data/cef_fundem_clean.csv')"
   ]
  },
  {
   "cell_type": "code",
   "execution_count": null,
   "metadata": {},
   "outputs": [],
   "source": []
  }
 ],
 "metadata": {
  "kernelspec": {
   "display_name": "Python 3",
   "language": "python",
   "name": "python3"
  },
  "language_info": {
   "codemirror_mode": {
    "name": "ipython",
    "version": 3
   },
   "file_extension": ".py",
   "mimetype": "text/x-python",
   "name": "python",
   "nbconvert_exporter": "python",
   "pygments_lexer": "ipython3",
   "version": "3.7.0"
  }
 },
 "nbformat": 4,
 "nbformat_minor": 2
}
